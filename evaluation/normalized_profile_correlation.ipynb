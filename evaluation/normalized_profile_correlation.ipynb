{
 "cells": [
  {
   "cell_type": "code",
   "execution_count": 1,
   "metadata": {},
   "outputs": [],
   "source": [
    "import pandas as pd\n",
    "import numpy as np\n",
    "import matplotlib.pyplot as plt\n",
    "import seaborn as sns"
   ]
  },
  {
   "cell_type": "code",
   "execution_count": 2,
   "metadata": {},
   "outputs": [],
   "source": [
    "plt.rcParams.update({'font.size': 8, 'pdf.fonttype': 42})"
   ]
  },
  {
   "cell_type": "code",
   "execution_count": 3,
   "metadata": {},
   "outputs": [],
   "source": [
    "#sns.set_style(\"whitegrid\")\n",
    "sns.set_style(\"ticks\")"
   ]
  },
  {
   "cell_type": "code",
   "execution_count": 39,
   "metadata": {},
   "outputs": [],
   "source": [
    "df = pd.read_csv('results/fmri_profile_corr.csv')\n"
   ]
  },
  {
   "cell_type": "code",
   "execution_count": 40,
   "metadata": {},
   "outputs": [],
   "source": [
    "df_nc = pd.read_csv('profile_noise_ceiling_single_trial.csv')\n",
    "df_nc_thd = pd.read_csv('profile_nc_threshold_single_trial.csv')"
   ]
  },
  {
   "cell_type": "code",
   "execution_count": 41,
   "metadata": {},
   "outputs": [],
   "source": [
    "df_nc['identifier'] = df_nc['Subject'].values + df_nc['ROI'].values + df_nc['Vox_idx'].values.astype(str)\n",
    "df_nc_thd['identifier'] = df_nc_thd['Subject'].values + df_nc_thd['ROI'].values + df_nc_thd['Vox_idx'].values.astype(str)\n",
    "\n",
    "df_nc = df_nc.join(df_nc_thd.set_index('identifier'), rsuffix='_', on='identifier')"
   ]
  },
  {
   "cell_type": "code",
   "execution_count": 42,
   "metadata": {},
   "outputs": [],
   "source": [
    "df['identifier'] = df['Target'].values + df['Target ROI'].values + df['Vox_idx'].values.astype(int).astype(str)"
   ]
  },
  {
   "cell_type": "code",
   "execution_count": 43,
   "metadata": {},
   "outputs": [],
   "source": [
    "df = df.merge(df_nc, on='identifier', suffixes=('', '_nc'))"
   ]
  },
  {
   "cell_type": "code",
   "execution_count": 45,
   "metadata": {},
   "outputs": [],
   "source": [
    "# Remove those voxels whose noise ceiling is below the threshold.\n",
    "df.drop(df.loc[df['Correlation_nc'] <= df['Threshold 1']].index, inplace=True)"
   ]
  },
  {
   "cell_type": "code",
   "execution_count": 46,
   "metadata": {},
   "outputs": [],
   "source": [
    "# Because of the noise, the profile correlation is still possible to exceed noise ceiling for some voxels. We clip the normalized correlation betwwen -1, 1.\n",
    "df['Normalized correlation'] = np.clip(np.nan_to_num(df['Correlation'].values / df['Correlation_nc'].values), a_min=-1, a_max=1)"
   ]
  }
 ],
 "metadata": {
  "kernelspec": {
   "display_name": "Python 3",
   "language": "python",
   "name": "python3"
  },
  "language_info": {
   "codemirror_mode": {
    "name": "ipython",
    "version": 3
   },
   "file_extension": ".py",
   "mimetype": "text/x-python",
   "name": "python",
   "nbconvert_exporter": "python",
   "pygments_lexer": "ipython3",
   "version": "3.8.5"
  }
 },
 "nbformat": 4,
 "nbformat_minor": 4
}
