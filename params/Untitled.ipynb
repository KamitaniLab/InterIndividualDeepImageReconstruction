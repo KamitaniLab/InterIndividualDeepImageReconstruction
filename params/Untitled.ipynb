{
 "cells": [
  {
   "cell_type": "code",
   "execution_count": 1,
   "metadata": {},
   "outputs": [],
   "source": [
    "import pandas as pd"
   ]
  },
  {
   "cell_type": "code",
   "execution_count": 3,
   "metadata": {},
   "outputs": [],
   "source": [
    "df1 = pd.read_csv('converter_params_full_5trg_VCNew.csv')\n",
    "df2 = pd.read_csv('converter_params_ROI_5trg_VCNew.csv')"
   ]
  },
  {
   "cell_type": "code",
   "execution_count": 4,
   "metadata": {},
   "outputs": [
    {
     "data": {
      "text/html": [
       "<div>\n",
       "<style scoped>\n",
       "    .dataframe tbody tr th:only-of-type {\n",
       "        vertical-align: middle;\n",
       "    }\n",
       "\n",
       "    .dataframe tbody tr th {\n",
       "        vertical-align: top;\n",
       "    }\n",
       "\n",
       "    .dataframe thead th {\n",
       "        text-align: right;\n",
       "    }\n",
       "</style>\n",
       "<table border=\"1\" class=\"dataframe\">\n",
       "  <thead>\n",
       "    <tr style=\"text-align: right;\">\n",
       "      <th></th>\n",
       "      <th>Source</th>\n",
       "      <th>Target</th>\n",
       "      <th>Number of samples</th>\n",
       "      <th>Alpha</th>\n",
       "      <th>ROI</th>\n",
       "      <th>Method</th>\n",
       "    </tr>\n",
       "  </thead>\n",
       "  <tbody>\n",
       "    <tr>\n",
       "      <th>0</th>\n",
       "      <td>TH</td>\n",
       "      <td>AM</td>\n",
       "      <td>300</td>\n",
       "      <td>1</td>\n",
       "      <td>VC</td>\n",
       "      <td>full</td>\n",
       "    </tr>\n",
       "    <tr>\n",
       "      <th>1</th>\n",
       "      <td>TH</td>\n",
       "      <td>AM</td>\n",
       "      <td>600</td>\n",
       "      <td>2</td>\n",
       "      <td>VC</td>\n",
       "      <td>full</td>\n",
       "    </tr>\n",
       "    <tr>\n",
       "      <th>2</th>\n",
       "      <td>TH</td>\n",
       "      <td>AM</td>\n",
       "      <td>900</td>\n",
       "      <td>6</td>\n",
       "      <td>VC</td>\n",
       "      <td>full</td>\n",
       "    </tr>\n",
       "    <tr>\n",
       "      <th>3</th>\n",
       "      <td>TH</td>\n",
       "      <td>AM</td>\n",
       "      <td>1200</td>\n",
       "      <td>1</td>\n",
       "      <td>VC</td>\n",
       "      <td>full</td>\n",
       "    </tr>\n",
       "    <tr>\n",
       "      <th>4</th>\n",
       "      <td>TH</td>\n",
       "      <td>AM</td>\n",
       "      <td>2400</td>\n",
       "      <td>220</td>\n",
       "      <td>VC</td>\n",
       "      <td>full</td>\n",
       "    </tr>\n",
       "    <tr>\n",
       "      <th>...</th>\n",
       "      <td>...</td>\n",
       "      <td>...</td>\n",
       "      <td>...</td>\n",
       "      <td>...</td>\n",
       "      <td>...</td>\n",
       "      <td>...</td>\n",
       "    </tr>\n",
       "    <tr>\n",
       "      <th>155</th>\n",
       "      <td>JP</td>\n",
       "      <td>KS</td>\n",
       "      <td>1200</td>\n",
       "      <td>1</td>\n",
       "      <td>VC</td>\n",
       "      <td>full</td>\n",
       "    </tr>\n",
       "    <tr>\n",
       "      <th>156</th>\n",
       "      <td>JP</td>\n",
       "      <td>KS</td>\n",
       "      <td>2400</td>\n",
       "      <td>340</td>\n",
       "      <td>VC</td>\n",
       "      <td>full</td>\n",
       "    </tr>\n",
       "    <tr>\n",
       "      <th>157</th>\n",
       "      <td>JP</td>\n",
       "      <td>KS</td>\n",
       "      <td>3600</td>\n",
       "      <td>400</td>\n",
       "      <td>VC</td>\n",
       "      <td>full</td>\n",
       "    </tr>\n",
       "    <tr>\n",
       "      <th>158</th>\n",
       "      <td>JP</td>\n",
       "      <td>KS</td>\n",
       "      <td>4800</td>\n",
       "      <td>540</td>\n",
       "      <td>VC</td>\n",
       "      <td>full</td>\n",
       "    </tr>\n",
       "    <tr>\n",
       "      <th>159</th>\n",
       "      <td>JP</td>\n",
       "      <td>KS</td>\n",
       "      <td>6000</td>\n",
       "      <td>640</td>\n",
       "      <td>VC</td>\n",
       "      <td>full</td>\n",
       "    </tr>\n",
       "  </tbody>\n",
       "</table>\n",
       "<p>160 rows × 6 columns</p>\n",
       "</div>"
      ],
      "text/plain": [
       "    Source Target  Number of samples  Alpha ROI Method\n",
       "0       TH     AM                300      1  VC   full\n",
       "1       TH     AM                600      2  VC   full\n",
       "2       TH     AM                900      6  VC   full\n",
       "3       TH     AM               1200      1  VC   full\n",
       "4       TH     AM               2400    220  VC   full\n",
       "..     ...    ...                ...    ...  ..    ...\n",
       "155     JP     KS               1200      1  VC   full\n",
       "156     JP     KS               2400    340  VC   full\n",
       "157     JP     KS               3600    400  VC   full\n",
       "158     JP     KS               4800    540  VC   full\n",
       "159     JP     KS               6000    640  VC   full\n",
       "\n",
       "[160 rows x 6 columns]"
      ]
     },
     "execution_count": 4,
     "metadata": {},
     "output_type": "execute_result"
    }
   ],
   "source": [
    "df1"
   ]
  },
  {
   "cell_type": "code",
   "execution_count": 5,
   "metadata": {},
   "outputs": [],
   "source": [
    "sbj_mapping = {'TH': 'sub-01',\n",
    "               'AM': 'sub-02',\n",
    "               'ES': 'sub-03',\n",
    "               'KS': 'sub-04',\n",
    "               'JP': 'sub-05'}"
   ]
  },
  {
   "cell_type": "code",
   "execution_count": 6,
   "metadata": {},
   "outputs": [],
   "source": [
    "method_mapping = {'full': 'wholeVC', 'ROI': 'subareawise'}"
   ]
  },
  {
   "cell_type": "code",
   "execution_count": 7,
   "metadata": {},
   "outputs": [],
   "source": [
    "df = pd.concat([df1,df2])"
   ]
  },
  {
   "cell_type": "code",
   "execution_count": 9,
   "metadata": {},
   "outputs": [],
   "source": [
    "df['Source'] = df['Source'].apply(lambda x: sbj_mapping[x]).values\n",
    "df['Target'] = df['Target'].apply(lambda x: sbj_mapping[x]).values"
   ]
  },
  {
   "cell_type": "code",
   "execution_count": 10,
   "metadata": {},
   "outputs": [],
   "source": [
    "df['Method'] = df['Method'].apply(lambda x: method_mapping[x]).values"
   ]
  },
  {
   "cell_type": "code",
   "execution_count": 12,
   "metadata": {},
   "outputs": [],
   "source": [
    "df.to_csv('converter_params.csv', index=None)"
   ]
  },
  {
   "cell_type": "code",
   "execution_count": 14,
   "metadata": {},
   "outputs": [],
   "source": [
    "det1 = df['Number of samples'] == 2400\n",
    "det2 = df['Method'] == 'wholeVC'\n",
    "det3 = df['Source'] == 'sub-01'\n",
    "det4 = df['Target'] == 'sub-02'\n"
   ]
  },
  {
   "cell_type": "code",
   "execution_count": 16,
   "metadata": {},
   "outputs": [],
   "source": [
    "df[det1 & det2 & det3 & det4].to_csv('converter_params_1conversion.csv')"
   ]
  },
  {
   "cell_type": "code",
   "execution_count": null,
   "metadata": {},
   "outputs": [],
   "source": []
  }
 ],
 "metadata": {
  "kernelspec": {
   "display_name": "Python 3",
   "language": "python",
   "name": "python3"
  },
  "language_info": {
   "codemirror_mode": {
    "name": "ipython",
    "version": 3
   },
   "file_extension": ".py",
   "mimetype": "text/x-python",
   "name": "python",
   "nbconvert_exporter": "python",
   "pygments_lexer": "ipython3",
   "version": "3.7.4"
  }
 },
 "nbformat": 4,
 "nbformat_minor": 2
}
